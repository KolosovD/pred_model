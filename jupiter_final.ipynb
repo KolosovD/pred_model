{
 "cells": [
  {
   "cell_type": "markdown",
   "id": "44010328",
   "metadata": {},
   "source": [
    "# 1. Data upload"
   ]
  },
  {
   "cell_type": "code",
   "execution_count": 1,
   "id": "332dbb00",
   "metadata": {},
   "outputs": [],
   "source": [
    "import pandas as pd"
   ]
  },
  {
   "cell_type": "code",
   "execution_count": 2,
   "id": "9b509762",
   "metadata": {},
   "outputs": [
    {
     "data": {
      "text/plain": [
       "(15726470, 11)"
      ]
     },
     "execution_count": 2,
     "metadata": {},
     "output_type": "execute_result"
    }
   ],
   "source": [
    "#загружаем 1-ый датасет, удаляем дубликаты и выводим размерность\n",
    "df_h = pd.read_csv('ga_hits.csv', sep = ',')\n",
    "df_h.drop_duplicates()\n",
    "df_h.shape"
   ]
  },
  {
   "cell_type": "code",
   "execution_count": 3,
   "id": "a3cb0372",
   "metadata": {},
   "outputs": [
    {
     "name": "stderr",
     "output_type": "stream",
     "text": [
      "C:\\Users\\user\\AppData\\Local\\Temp\\ipykernel_2032\\2022408432.py:2: DtypeWarning: Columns (1) have mixed types. Specify dtype option on import or set low_memory=False.\n",
      "  df_s = pd.read_csv('ga_sessions.csv', sep = ',')\n"
     ]
    },
    {
     "data": {
      "text/plain": [
       "(1860042, 18)"
      ]
     },
     "execution_count": 3,
     "metadata": {},
     "output_type": "execute_result"
    }
   ],
   "source": [
    "#аналогично для 2-го датасета\n",
    "df_s = pd.read_csv('ga_sessions.csv', sep = ',')\n",
    "df_s.drop_duplicates()\n",
    "df_s.shape"
   ]
  },
  {
   "cell_type": "code",
   "execution_count": 4,
   "id": "b34dac76",
   "metadata": {},
   "outputs": [
    {
     "name": "stdout",
     "output_type": "stream",
     "text": [
      "<class 'pandas.core.frame.DataFrame'>\n",
      "Int64Index: 15685219 entries, 0 to 15685218\n",
      "Data columns (total 28 columns):\n",
      " #   Column                    Dtype  \n",
      "---  ------                    -----  \n",
      " 0   session_id                object \n",
      " 1   hit_date                  object \n",
      " 2   hit_time                  float64\n",
      " 3   hit_number                int64  \n",
      " 4   hit_type                  object \n",
      " 5   hit_referer               object \n",
      " 6   hit_page_path             object \n",
      " 7   event_category            object \n",
      " 8   event_action              object \n",
      " 9   event_label               object \n",
      " 10  event_value               float64\n",
      " 11  client_id                 object \n",
      " 12  visit_date                object \n",
      " 13  visit_time                object \n",
      " 14  visit_number              int64  \n",
      " 15  utm_source                object \n",
      " 16  utm_medium                object \n",
      " 17  utm_campaign              object \n",
      " 18  utm_adcontent             object \n",
      " 19  utm_keyword               object \n",
      " 20  device_category           object \n",
      " 21  device_os                 object \n",
      " 22  device_brand              object \n",
      " 23  device_model              object \n",
      " 24  device_screen_resolution  object \n",
      " 25  device_browser            object \n",
      " 26  geo_country               object \n",
      " 27  geo_city                  object \n",
      "dtypes: float64(2), int64(2), object(24)\n",
      "memory usage: 3.4+ GB\n",
      "None (15685219, 28)\n"
     ]
    }
   ],
   "source": [
    "#соединяем 2 датасета по столбцу (session_id), удаляем дубликаты смотрим информацию о получившемся датасете\n",
    "df_old = pd.merge(df_h, df_s, how = 'inner', on = 'session_id')\n",
    "df_old.drop_duplicates()\n",
    "print(df_old.info(), df_old.shape)"
   ]
  },
  {
   "cell_type": "markdown",
   "id": "36fdb084",
   "metadata": {},
   "source": [
    "# 2. Data preparation"
   ]
  },
  {
   "cell_type": "code",
   "execution_count": 5,
   "id": "c6d7f150",
   "metadata": {},
   "outputs": [
    {
     "data": {
      "text/plain": [
       "event_value                 100.000000\n",
       "device_model                 99.220368\n",
       "utm_keyword                  58.684721\n",
       "hit_time                     58.400224\n",
       "device_os                    58.388614\n",
       "hit_referer                  39.753975\n",
       "device_brand                 25.156646\n",
       "event_label                  23.765572\n",
       "utm_adcontent                18.057880\n",
       "utm_campaign                 14.018759\n",
       "utm_source                    0.004463\n",
       "session_id                    0.000000\n",
       "geo_country                   0.000000\n",
       "device_browser                0.000000\n",
       "device_screen_resolution      0.000000\n",
       "device_category               0.000000\n",
       "visit_number                  0.000000\n",
       "utm_medium                    0.000000\n",
       "hit_date                      0.000000\n",
       "visit_time                    0.000000\n",
       "visit_date                    0.000000\n",
       "client_id                     0.000000\n",
       "event_action                  0.000000\n",
       "event_category                0.000000\n",
       "hit_page_path                 0.000000\n",
       "hit_type                      0.000000\n",
       "hit_number                    0.000000\n",
       "geo_city                      0.000000\n",
       "dtype: float64"
      ]
     },
     "execution_count": 5,
     "metadata": {},
     "output_type": "execute_result"
    }
   ],
   "source": [
    "#оцениваем проценты пропущенных значений для прояснения логики дальнейших действий\n",
    "missing_values_percent = ( (df_old.isna().sum() / len(df_old))* 100 ).sort_values(ascending=False)\n",
    "missing_values_percent "
   ]
  },
  {
   "cell_type": "code",
   "execution_count": 29,
   "id": "5efffd43",
   "metadata": {},
   "outputs": [
    {
     "data": {
      "text/plain": [
       "(15685219, 13)"
      ]
     },
     "execution_count": 29,
     "metadata": {},
     "output_type": "execute_result"
    }
   ],
   "source": [
    "# исходя из методических указаний к работе, удаляем некоторые столбцы. Также удаляем device_model (99% значений пропущено)\n",
    "df = df_old.drop(columns = ['event_category', 'event_label', 'event_value', 'device_model', 'hit_time', 'hit_referer', 'visit_number', 'visit_time', 'visit_date', 'client_id', 'hit_date',\n",
    "'hit_page_path', 'hit_type', 'hit_number', 'session_id'], axis = 1)\n",
    "df.shape"
   ]
  },
  {
   "cell_type": "code",
   "execution_count": 30,
   "id": "df9c318a",
   "metadata": {},
   "outputs": [],
   "source": [
    "# из event_action получаем target, целевую переменную. Затем исходную колонку удаляем - не нужна.\n",
    "def f(df):\n",
    "    if df['event_action'] in ['sub_car_claim_click', 'sub_car_claim_submit_click','sub_open_dialog_click', 'sub_custom_question_submit_click', 'sub_call_number_click', 'sub_callback_submit_click', 'sub_submit_success','sub_car_request_submit_click']:\n",
    "        val = 1\n",
    "    else:\n",
    "        val = 0\n",
    "    return val\n",
    "\n",
    "df['target'] = df.apply (f, axis=1)\n",
    "df.drop(columns = 'event_action', inplace = True)\n",
    "#удаляем дубликаты\n",
    "df = df.drop_duplicates()"
   ]
  },
  {
   "cell_type": "code",
   "execution_count": 31,
   "id": "8364bfc0",
   "metadata": {},
   "outputs": [],
   "source": [
    "# удаляем строки, где utm_source и utm_medium не заполнены, \n",
    "# так как относительно размеров датасета их немного и пропущены они, как правило, в одних и тех же строках\n",
    "df = df[df.utm_medium.notna()]\n",
    "df = df[df.utm_source.notna()]\n",
    "# в нижеуказанных колонках заполняем пропуски значением other\n",
    "df.utm_campaign = df.utm_campaign.fillna('other')\n",
    "df.utm_adcontent = df.utm_adcontent.fillna('other')\n",
    "df.device_os = df.device_os.fillna('other')\n",
    "df.utm_keyword = df.utm_keyword.fillna('other')\n",
    "df.device_brand = df.device_brand.fillna('other')"
   ]
  },
  {
   "cell_type": "code",
   "execution_count": 32,
   "id": "8d0db99d",
   "metadata": {},
   "outputs": [],
   "source": [
    "#в силу ограниченных возможностей для вычисления сокращаем количество значений в столбцах (где это представляется возможным)\n",
    "df['device_brand'] = df['device_brand'].apply(lambda x: x if x == 'Apple' or x== 'Samsung' or x == 'Xiaomi' or x == 'Huawei' else 'other')\n",
    "df['device_os'] = df['device_os'].apply(lambda x: x if x == 'Android' or x == 'iOS' or x == 'Windows' or x == 'Macintosh' or x == 'Linux' else 'other')\n",
    "df['device_browser'] = df['device_browser'].apply(lambda x: x if x == 'Safari' or x == 'YaBrowser' or x == 'Safari (in-app)' or x == 'Android Webview' or x == 'Samsung Internet' or x == 'Firefox' or x == 'Edge' else 'other')\n",
    "df['geo_country'] = df['geo_country'].apply(lambda x: x if x == 'Russia' or x == 'Ukraine' or x == 'United States' or x == 'Belarus' or x == 'Germany' else 'other')\n",
    "df['geo_city'] = df['geo_city'].apply(lambda x: x if x == 'Moscow' or x == 'Saint Petersburg' or x == 'Yekaterinburg' or x == 'Krasnodar' else 'other')\n",
    "df['device_screen_resolution'] = df['device_screen_resolution'].apply(lambda x: 'low' if len(x) <= 7   else ('medium' if len(x) == 8 else 'high' ))"
   ]
  },
  {
   "cell_type": "code",
   "execution_count": 33,
   "id": "12f8af5f",
   "metadata": {},
   "outputs": [
    {
     "data": {
      "text/plain": [
       "utm_source                  0.0\n",
       "utm_medium                  0.0\n",
       "utm_campaign                0.0\n",
       "utm_adcontent               0.0\n",
       "utm_keyword                 0.0\n",
       "device_category             0.0\n",
       "device_os                   0.0\n",
       "device_brand                0.0\n",
       "device_screen_resolution    0.0\n",
       "device_browser              0.0\n",
       "geo_country                 0.0\n",
       "geo_city                    0.0\n",
       "target                      0.0\n",
       "dtype: float64"
      ]
     },
     "execution_count": 33,
     "metadata": {},
     "output_type": "execute_result"
    }
   ],
   "source": [
    "#снова смотрим процент пропущенных значений - он равен 0\n",
    "missing_values_percent = ( (df.isna().sum() / len(df))* 100 ).sort_values(ascending=False)\n",
    "missing_values_percent"
   ]
  },
  {
   "cell_type": "code",
   "execution_count": 34,
   "id": "4ff6102f",
   "metadata": {},
   "outputs": [
    {
     "name": "stdout",
     "output_type": "stream",
     "text": [
      "<class 'pandas.core.frame.DataFrame'>\n",
      "Int64Index: 417600 entries, 0 to 15685207\n",
      "Data columns (total 13 columns):\n",
      " #   Column                    Non-Null Count   Dtype \n",
      "---  ------                    --------------   ----- \n",
      " 0   utm_source                417600 non-null  object\n",
      " 1   utm_medium                417600 non-null  object\n",
      " 2   utm_campaign              417600 non-null  object\n",
      " 3   utm_adcontent             417600 non-null  object\n",
      " 4   utm_keyword               417600 non-null  object\n",
      " 5   device_category           417600 non-null  object\n",
      " 6   device_os                 417600 non-null  object\n",
      " 7   device_brand              417600 non-null  object\n",
      " 8   device_screen_resolution  417600 non-null  object\n",
      " 9   device_browser            417600 non-null  object\n",
      " 10  geo_country               417600 non-null  object\n",
      " 11  geo_city                  417600 non-null  object\n",
      " 12  target                    417600 non-null  int32 \n",
      "dtypes: int32(1), object(12)\n",
      "memory usage: 43.0+ MB\n"
     ]
    }
   ],
   "source": [
    "#все колонки, кроме таргета, приводим к типу str\n",
    "df = df.astype('str')\n",
    "df.target = df.target.astype('int')\n",
    "df.info()"
   ]
  },
  {
   "cell_type": "code",
   "execution_count": 35,
   "id": "484630b0",
   "metadata": {},
   "outputs": [],
   "source": [
    "# сохраняем получившийся датасет. Следующие этапы будут реализованы в виде пайплайна при помощи PyCharm\n",
    "df.to_csv('df.csv', index = False)"
   ]
  },
  {
   "cell_type": "code",
   "execution_count": 36,
   "id": "5074fd30",
   "metadata": {},
   "outputs": [
    {
     "data": {
      "text/plain": [
       "(417600, 13)"
      ]
     },
     "execution_count": 36,
     "metadata": {},
     "output_type": "execute_result"
    }
   ],
   "source": [
    "df.shape"
   ]
  },
  {
   "cell_type": "code",
   "execution_count": 47,
   "id": "6e25a6c6",
   "metadata": {},
   "outputs": [
    {
     "data": {
      "text/html": [
       "<div>\n",
       "<style scoped>\n",
       "    .dataframe tbody tr th:only-of-type {\n",
       "        vertical-align: middle;\n",
       "    }\n",
       "\n",
       "    .dataframe tbody tr th {\n",
       "        vertical-align: top;\n",
       "    }\n",
       "\n",
       "    .dataframe thead th {\n",
       "        text-align: right;\n",
       "    }\n",
       "</style>\n",
       "<table border=\"1\" class=\"dataframe\">\n",
       "  <thead>\n",
       "    <tr style=\"text-align: right;\">\n",
       "      <th></th>\n",
       "      <th>utm_source</th>\n",
       "      <th>utm_medium</th>\n",
       "      <th>utm_campaign</th>\n",
       "      <th>utm_adcontent</th>\n",
       "      <th>utm_keyword</th>\n",
       "      <th>device_category</th>\n",
       "      <th>device_os</th>\n",
       "      <th>device_brand</th>\n",
       "      <th>device_screen_resolution</th>\n",
       "      <th>device_browser</th>\n",
       "      <th>geo_country</th>\n",
       "      <th>geo_city</th>\n",
       "      <th>target</th>\n",
       "    </tr>\n",
       "  </thead>\n",
       "  <tbody>\n",
       "    <tr>\n",
       "      <th>0</th>\n",
       "      <td>kjsLglQLzykiRbcDiGcD</td>\n",
       "      <td>cpc</td>\n",
       "      <td>other</td>\n",
       "      <td>other</td>\n",
       "      <td>wvtWRwiRmvPIsSQuXnvd</td>\n",
       "      <td>mobile</td>\n",
       "      <td>Android</td>\n",
       "      <td>Huawei</td>\n",
       "      <td>low</td>\n",
       "      <td>other</td>\n",
       "      <td>Russia</td>\n",
       "      <td>Saint Petersburg</td>\n",
       "      <td>0</td>\n",
       "    </tr>\n",
       "    <tr>\n",
       "      <th>38</th>\n",
       "      <td>ZpYIoDJMcFzVoPFsHGJL</td>\n",
       "      <td>banner</td>\n",
       "      <td>zxoiLxhuSIFrCeTLQVWZ</td>\n",
       "      <td>JNHcPlZPxEMWDnRiyoBf</td>\n",
       "      <td>puhZPIYqKXeFPaUviSjo</td>\n",
       "      <td>mobile</td>\n",
       "      <td>Android</td>\n",
       "      <td>Xiaomi</td>\n",
       "      <td>low</td>\n",
       "      <td>other</td>\n",
       "      <td>Russia</td>\n",
       "      <td>other</td>\n",
       "      <td>0</td>\n",
       "    </tr>\n",
       "    <tr>\n",
       "      <th>83</th>\n",
       "      <td>BHcvLfOaCWvWTykYqHVe</td>\n",
       "      <td>cpc</td>\n",
       "      <td>other</td>\n",
       "      <td>other</td>\n",
       "      <td>JajANoFxoqXfKRNBUhzx</td>\n",
       "      <td>desktop</td>\n",
       "      <td>Windows</td>\n",
       "      <td>other</td>\n",
       "      <td>high</td>\n",
       "      <td>other</td>\n",
       "      <td>Russia</td>\n",
       "      <td>Moscow</td>\n",
       "      <td>0</td>\n",
       "    </tr>\n",
       "    <tr>\n",
       "      <th>119</th>\n",
       "      <td>BHcvLfOaCWvWTykYqHVe</td>\n",
       "      <td>cpc</td>\n",
       "      <td>other</td>\n",
       "      <td>other</td>\n",
       "      <td>zXjuoqEaPElBnwpSHMpx</td>\n",
       "      <td>mobile</td>\n",
       "      <td>Android</td>\n",
       "      <td>Samsung</td>\n",
       "      <td>low</td>\n",
       "      <td>other</td>\n",
       "      <td>Russia</td>\n",
       "      <td>other</td>\n",
       "      <td>0</td>\n",
       "    </tr>\n",
       "    <tr>\n",
       "      <th>157</th>\n",
       "      <td>fDLlAcSmythWSCVMvqvL</td>\n",
       "      <td>(none)</td>\n",
       "      <td>LTuZkdKfxRGVceoWkVyg</td>\n",
       "      <td>JNHcPlZPxEMWDnRiyoBf</td>\n",
       "      <td>puhZPIYqKXeFPaUviSjo</td>\n",
       "      <td>desktop</td>\n",
       "      <td>Windows</td>\n",
       "      <td>other</td>\n",
       "      <td>medium</td>\n",
       "      <td>other</td>\n",
       "      <td>other</td>\n",
       "      <td>other</td>\n",
       "      <td>0</td>\n",
       "    </tr>\n",
       "  </tbody>\n",
       "</table>\n",
       "</div>"
      ],
      "text/plain": [
       "               utm_source utm_medium          utm_campaign  \\\n",
       "0    kjsLglQLzykiRbcDiGcD        cpc                 other   \n",
       "38   ZpYIoDJMcFzVoPFsHGJL     banner  zxoiLxhuSIFrCeTLQVWZ   \n",
       "83   BHcvLfOaCWvWTykYqHVe        cpc                 other   \n",
       "119  BHcvLfOaCWvWTykYqHVe        cpc                 other   \n",
       "157  fDLlAcSmythWSCVMvqvL     (none)  LTuZkdKfxRGVceoWkVyg   \n",
       "\n",
       "            utm_adcontent           utm_keyword device_category device_os  \\\n",
       "0                   other  wvtWRwiRmvPIsSQuXnvd          mobile   Android   \n",
       "38   JNHcPlZPxEMWDnRiyoBf  puhZPIYqKXeFPaUviSjo          mobile   Android   \n",
       "83                  other  JajANoFxoqXfKRNBUhzx         desktop   Windows   \n",
       "119                 other  zXjuoqEaPElBnwpSHMpx          mobile   Android   \n",
       "157  JNHcPlZPxEMWDnRiyoBf  puhZPIYqKXeFPaUviSjo         desktop   Windows   \n",
       "\n",
       "    device_brand device_screen_resolution device_browser geo_country  \\\n",
       "0         Huawei                      low          other      Russia   \n",
       "38        Xiaomi                      low          other      Russia   \n",
       "83         other                     high          other      Russia   \n",
       "119      Samsung                      low          other      Russia   \n",
       "157        other                   medium          other       other   \n",
       "\n",
       "             geo_city  target  \n",
       "0    Saint Petersburg       0  \n",
       "38              other       0  \n",
       "83             Moscow       0  \n",
       "119             other       0  \n",
       "157             other       0  "
      ]
     },
     "execution_count": 47,
     "metadata": {},
     "output_type": "execute_result"
    }
   ],
   "source": [
    "df.head()"
   ]
  },
  {
   "cell_type": "code",
   "execution_count": null,
   "id": "8fdc8a83",
   "metadata": {},
   "outputs": [],
   "source": []
  }
 ],
 "metadata": {
  "kernelspec": {
   "display_name": "Python 3 (ipykernel)",
   "language": "python",
   "name": "python3"
  },
  "language_info": {
   "codemirror_mode": {
    "name": "ipython",
    "version": 3
   },
   "file_extension": ".py",
   "mimetype": "text/x-python",
   "name": "python",
   "nbconvert_exporter": "python",
   "pygments_lexer": "ipython3",
   "version": "3.9.13"
  }
 },
 "nbformat": 4,
 "nbformat_minor": 5
}
